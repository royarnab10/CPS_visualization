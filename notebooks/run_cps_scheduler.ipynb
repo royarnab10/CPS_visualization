{
  "cells": [
    {
      "cell_type": "markdown",
      "metadata": {},
      "source": [
        "# Run the CPM scheduler\n",
        "\n",
        "This notebook demonstrates how to execute `cps_scheduler.py` against the bundled level-4 rules workbook.\n",
        "Update the parameters below to point at your workbook, project start date, and desired output locations before running the cells."
      ]
    },
    {
      "cell_type": "code",
      "execution_count": null,
      "metadata": {},
      "outputs": [],
      "source": [
        "from pathlib import Path\n",
        "import datetime as dt\n",
        "\n",
        "PROJECT_ROOT = Path('..').resolve()\n",
        "WORKBOOK_PATH = PROJECT_ROOT / 'cps_rules_level_4.xlsx'\n",
        "OUTPUT_CSV = PROJECT_ROOT / 'schedule_output.csv'\n",
        "OUTPUT_XLSX = PROJECT_ROOT / 'schedule_output.xlsx'\n",
        "PROJECT_START = dt.datetime(2024, 1, 1, 8, 0)\n",
        "IGNORE_MISSING = True\n",
        "PROJECT_START\n"
      ]
    },
    {
      "cell_type": "code",
      "execution_count": null,
      "metadata": {},
      "outputs": [],
      "source": [
        "import subprocess\n",
        "\n",
        "cmd = [\n",
        "    'python',\n",
        "    str(PROJECT_ROOT / 'cps_scheduler.py'),\n",
        "    '--input',\n",
        "    str(WORKBOOK_PATH),\n",
        "    '--project-start',\n",
        "    PROJECT_START.isoformat(timespec='minutes'),\n",
        "    '--output-csv',\n",
        "    str(OUTPUT_CSV),\n",
        "    '--output-xlsx',\n",
        "    str(OUTPUT_XLSX),\n",
        "]\n",
        "if IGNORE_MISSING:\n",
        "    cmd.append('--ignore-missing')\n",
        "\n",
        "result = subprocess.run(cmd, capture_output=True, text=True, check=False)\n",
        "print('Command:', ' '.join(cmd))\n",
        "print('Return code:', result.returncode)\n",
        "if result.stdout:\n",
        "    print(result.stdout)\n",
        "if result.stderr:\n",
        "    print(result.stderr)\n",
        "result.returncode\n"
      ]
    },
    {
      "cell_type": "code",
      "execution_count": null,
      "metadata": {},
      "outputs": [],
      "source": [
        "import csv\n",
        "\n",
        "with open(OUTPUT_CSV, newline='') as handle:\n",
        "    reader = csv.reader(handle)\n",
        "    for i, row in enumerate(reader):\n",
        "        print(row)\n",
        "        if i >= 5:\n",
        "            break\n"
      ]
    }
  ],
  "metadata": {
    "kernelspec": {
      "display_name": "Python 3",
      "language": "python",
      "name": "python3"
    },
    "language_info": {
      "name": "python",
      "version": "3.11"
    }
  },
  "nbformat": 4,
  "nbformat_minor": 5
}
