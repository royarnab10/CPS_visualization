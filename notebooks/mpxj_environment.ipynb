{
  "cells": [
    {
      "cell_type": "markdown",
      "metadata": {},
      "source": [
        "# MPXJ environment check\n",
        "\n",
        "This notebook documents how to create a virtual environment using the project's `requirements.txt` file and verifies that the optional `mpxj` dependency is available before running conversions."
      ]
    },
    {
      "cell_type": "markdown",
      "metadata": {},
      "source": [
        "## 1. Create and activate a virtual environment\n",
        "\n",
        "Run the following commands in a terminal to create a fresh environment and install the dependencies. If the installation fails, double-check that outbound internet access is available (both `JPype1` and `mpxj` are hosted on PyPI).\n",
        "\n",
        "```bash\n",
        "python -m venv .venv\n",
        "source .venv/bin/activate  # On Windows use: .venv\\Scripts\\activate\n",
        "python -m pip install --upgrade pip\n",
        "python -m pip install -r requirements.txt\n",
        "```"
      ]
    },
    {
      "cell_type": "code",
      "execution_count": null,
      "metadata": {},
      "outputs": [],
      "source": [
        "import importlib\n",
        "from pathlib import Path\n",
        "\n",
        "try:\n",
        "    mpp_converter = importlib.import_module('cps_tool.mpp_converter')\n",
        "    print('MPXJ import available.')\n",
        "except ImportError as exc:\n",
        "    print('mpxj is not installed:', exc)\n",
        "    print('Install the requirements and restart the kernel before running conversions.')"
      ]
    },
    {
      "cell_type": "markdown",
      "metadata": {},
      "source": [
        "## 2. Convert an MPP file to CSV (optional)\n",
        "\n",
        "Once the dependency check passes, run the following cell to convert an `.mpp` file. Update the paths as needed for your dataset."
      ]
    },
    {
      "cell_type": "code",
      "execution_count": null,
      "metadata": {},
      "outputs": [],
      "source": [
        "from datetime import datetime\n",
        "from cps_tool import mpp_converter\n",
        "\n",
        "input_path = Path('Generic CPS for I-O.mpp')\n",
        "output_path = Path('output/tasks.csv')\n",
        "\n",
        "csv_path = mpp_converter.convert_mpp_to_csv(input_path, output_path)\n",
        "print('Wrote CSV to', csv_path)"
      ]
    }
  ],
  "metadata": {
    "kernelspec": {
      "display_name": "Python 3",
      "language": "python",
      "name": "python3"
    },
    "language_info": {
      "name": "python",
      "version": "3.11"
    }
  },
  "nbformat": 4,
  "nbformat_minor": 5
}